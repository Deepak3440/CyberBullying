{
 "cells": [
  {
   "cell_type": "markdown",
   "metadata": {
    "id": "EqpfQYGhxoqL"
   },
   "source": [
    "# Installing relevant packages"
   ]
  },
  {
   "cell_type": "code",
   "execution_count": 1,
   "metadata": {
    "colab": {
     "base_uri": "https://localhost:8080/"
    },
    "id": "4kuN3hsM_qcd",
    "outputId": "4e491146-846e-4221-8146-732688609f8a"
   },
   "outputs": [
    {
     "name": "stdout",
     "output_type": "stream",
     "text": [
      "Requirement already satisfied: sklearn in c:\\users\\deepak singh\\anaconda3\\lib\\site-packages (0.0.post9)\n",
      "Note: you may need to restart the kernel to use updated packages.\n"
     ]
    }
   ],
   "source": [
    "pip install sklearn"
   ]
  },
  {
   "cell_type": "code",
   "execution_count": 2,
   "metadata": {
    "colab": {
     "base_uri": "https://localhost:8080/"
    },
    "id": "LidA20peBKPf",
    "outputId": "c57a6e51-bfd9-4348-c8df-e18231065fdb"
   },
   "outputs": [
    {
     "name": "stdout",
     "output_type": "stream",
     "text": [
      "Requirement already satisfied: numpy in c:\\users\\deepak singh\\anaconda3\\lib\\site-packages (1.21.5)\n",
      "Note: you may need to restart the kernel to use updated packages.\n"
     ]
    }
   ],
   "source": [
    "pip install numpy"
   ]
  },
  {
   "cell_type": "code",
   "execution_count": 3,
   "metadata": {
    "colab": {
     "base_uri": "https://localhost:8080/"
    },
    "id": "1FXBPKmTBNrb",
    "outputId": "91d1afb7-d307-4747-9061-fb87b2d640be"
   },
   "outputs": [
    {
     "name": "stdout",
     "output_type": "stream",
     "text": [
      "Requirement already satisfied: pandas in c:\\users\\deepak singh\\anaconda3\\lib\\site-packages (1.4.2)\n",
      "Requirement already satisfied: python-dateutil>=2.8.1 in c:\\users\\deepak singh\\anaconda3\\lib\\site-packages (from pandas) (2.8.2)\n",
      "Requirement already satisfied: numpy>=1.18.5 in c:\\users\\deepak singh\\anaconda3\\lib\\site-packages (from pandas) (1.21.5)\n",
      "Requirement already satisfied: pytz>=2020.1 in c:\\users\\deepak singh\\anaconda3\\lib\\site-packages (from pandas) (2021.3)\n",
      "Requirement already satisfied: six>=1.5 in c:\\users\\deepak singh\\anaconda3\\lib\\site-packages (from python-dateutil>=2.8.1->pandas) (1.16.0)\n",
      "Note: you may need to restart the kernel to use updated packages.\n"
     ]
    }
   ],
   "source": [
    "pip install pandas"
   ]
  },
  {
   "cell_type": "code",
   "execution_count": 4,
   "metadata": {
    "colab": {
     "base_uri": "https://localhost:8080/"
    },
    "id": "qK6MZnk_Kmj6",
    "outputId": "562cb1c0-4d8a-4177-af6f-d649e5653400"
   },
   "outputs": [
    {
     "name": "stdout",
     "output_type": "stream",
     "text": [
      "Requirement already satisfied: nltk in c:\\users\\deepak singh\\anaconda3\\lib\\site-packages (3.7)\n",
      "Requirement already satisfied: click in c:\\users\\deepak singh\\anaconda3\\lib\\site-packages (from nltk) (8.0.4)\n",
      "Requirement already satisfied: joblib in c:\\users\\deepak singh\\anaconda3\\lib\\site-packages (from nltk) (1.3.2)\n",
      "Requirement already satisfied: regex>=2021.8.3 in c:\\users\\deepak singh\\anaconda3\\lib\\site-packages (from nltk) (2022.3.15)\n",
      "Requirement already satisfied: tqdm in c:\\users\\deepak singh\\anaconda3\\lib\\site-packages (from nltk) (4.64.0)\n",
      "Requirement already satisfied: colorama in c:\\users\\deepak singh\\anaconda3\\lib\\site-packages (from click->nltk) (0.4.4)\n",
      "Note: you may need to restart the kernel to use updated packages.\n"
     ]
    }
   ],
   "source": [
    "pip install nltk"
   ]
  },
  {
   "cell_type": "code",
   "execution_count": 5,
   "metadata": {
    "colab": {
     "base_uri": "https://localhost:8080/"
    },
    "id": "1uyIgXh2Bctj",
    "outputId": "e5063942-39e1-47e6-85da-2724787921cb"
   },
   "outputs": [
    {
     "name": "stdout",
     "output_type": "stream",
     "text": [
      "Requirement already satisfied: matplotlib in c:\\users\\deepak singh\\anaconda3\\lib\\site-packages (3.5.1)\n",
      "Requirement already satisfied: pillow>=6.2.0 in c:\\users\\deepak singh\\anaconda3\\lib\\site-packages (from matplotlib) (9.0.1)\n",
      "Requirement already satisfied: cycler>=0.10 in c:\\users\\deepak singh\\anaconda3\\lib\\site-packages (from matplotlib) (0.11.0)\n",
      "Requirement already satisfied: kiwisolver>=1.0.1 in c:\\users\\deepak singh\\anaconda3\\lib\\site-packages (from matplotlib) (1.3.2)\n",
      "Requirement already satisfied: packaging>=20.0 in c:\\users\\deepak singh\\anaconda3\\lib\\site-packages (from matplotlib) (21.3)\n",
      "Requirement already satisfied: python-dateutil>=2.7 in c:\\users\\deepak singh\\anaconda3\\lib\\site-packages (from matplotlib) (2.8.2)\n",
      "Requirement already satisfied: pyparsing>=2.2.1 in c:\\users\\deepak singh\\anaconda3\\lib\\site-packages (from matplotlib) (3.0.4)\n",
      "Requirement already satisfied: numpy>=1.17 in c:\\users\\deepak singh\\anaconda3\\lib\\site-packages (from matplotlib) (1.21.5)\n",
      "Requirement already satisfied: fonttools>=4.22.0 in c:\\users\\deepak singh\\anaconda3\\lib\\site-packages (from matplotlib) (4.25.0)\n",
      "Requirement already satisfied: six>=1.5 in c:\\users\\deepak singh\\anaconda3\\lib\\site-packages (from python-dateutil>=2.7->matplotlib) (1.16.0)\n",
      "Note: you may need to restart the kernel to use updated packages.\n"
     ]
    }
   ],
   "source": [
    "pip install matplotlib"
   ]
  },
  {
   "cell_type": "code",
   "execution_count": 6,
   "metadata": {
    "colab": {
     "base_uri": "https://localhost:8080/"
    },
    "id": "5IEggF7EklVy",
    "outputId": "cbfff54e-186d-4859-ce31-54263239abfa"
   },
   "outputs": [
    {
     "name": "stdout",
     "output_type": "stream",
     "text": [
      "Requirement already satisfied: imblearn in c:\\users\\deepak singh\\anaconda3\\lib\\site-packages (0.0)\n",
      "Requirement already satisfied: imbalanced-learn in c:\\users\\deepak singh\\anaconda3\\lib\\site-packages (from imblearn) (0.11.0)\n",
      "Requirement already satisfied: scikit-learn>=1.0.2 in c:\\users\\deepak singh\\anaconda3\\lib\\site-packages (from imbalanced-learn->imblearn) (1.0.2)\n",
      "Requirement already satisfied: scipy>=1.5.0 in c:\\users\\deepak singh\\anaconda3\\lib\\site-packages (from imbalanced-learn->imblearn) (1.7.3)\n",
      "Requirement already satisfied: numpy>=1.17.3 in c:\\users\\deepak singh\\anaconda3\\lib\\site-packages (from imbalanced-learn->imblearn) (1.21.5)\n",
      "Requirement already satisfied: joblib>=1.1.1 in c:\\users\\deepak singh\\anaconda3\\lib\\site-packages (from imbalanced-learn->imblearn) (1.3.2)\n",
      "Requirement already satisfied: threadpoolctl>=2.0.0 in c:\\users\\deepak singh\\anaconda3\\lib\\site-packages (from imbalanced-learn->imblearn) (2.2.0)\n",
      "Note: you may need to restart the kernel to use updated packages.\n"
     ]
    }
   ],
   "source": [
    "pip install imblearn"
   ]
  },
  {
   "cell_type": "markdown",
   "metadata": {
    "id": "OD9-Nr9SI48Z"
   },
   "source": [
    "# Importing"
   ]
  },
  {
   "cell_type": "code",
   "execution_count": 7,
   "metadata": {
    "id": "wAClNxeWBP5z"
   },
   "outputs": [],
   "source": [
    "import numpy as np\n",
    "import pandas as pd\n",
    "import matplotlib.pyplot as plt\n",
    "\n",
    "from sklearn.feature_extraction.text import TfidfTransformer, CountVectorizer, TfidfVectorizer\n",
    "from sklearn.metrics import confusion_matrix\n",
    "from sklearn.model_selection import train_test_split\n",
    "\n",
    "from nltk.stem.porter import PorterStemmer\n",
    "import nltk\n",
    "import re, string\n",
    "from nltk.corpus import stopwords\n",
    "import joblib\n",
    "\n",
    "from sklearn.linear_model import LogisticRegression\n",
    "from sklearn.ensemble import RandomForestClassifier, AdaBoostClassifier\n",
    "from sklearn.linear_model import LogisticRegression\n",
    "from sklearn.svm import LinearSVC\n",
    "from sklearn.model_selection import train_test_split\n",
    "from sklearn.naive_bayes import GaussianNB\n",
    "from sklearn.tree import DecisionTreeClassifier\n",
    "\n",
    "from sklearn.model_selection import cross_val_score\n",
    "\n",
    "from sklearn.metrics import confusion_matrix\n",
    "from sklearn.metrics import accuracy_score\n",
    "from sklearn.metrics import precision_recall_curve\n",
    "from sklearn.metrics import plot_precision_recall_curve\n",
    "import matplotlib.pyplot as plt\n",
    "from sklearn.metrics import roc_auc_score\n",
    "from sklearn.metrics import roc_curve\n",
    "from sklearn.metrics import classification_report\n",
    "from sklearn import metrics"
   ]
  },
  {
   "cell_type": "markdown",
   "metadata": {
    "id": "dSbaTauxLKzh"
   },
   "source": [
    "# Loading Data"
   ]
  },
  {
   "cell_type": "code",
   "execution_count": 8,
   "metadata": {
    "colab": {
     "base_uri": "https://localhost:8080/"
    },
    "id": "576KVyOxAgSO",
    "outputId": "a4fe589d-7aa0-48a8-f8e5-4c2065e72a84"
   },
   "outputs": [
    {
     "data": {
      "text/plain": [
       "<bound method NDFrame.head of                                                  content  \\\n",
       "0                                 Get fucking real dude.   \n",
       "1       She is as dirty as they come  and that crook ...   \n",
       "2       why did you fuck it up. I could do it all day...   \n",
       "3       Dude they dont finish enclosing the fucking s...   \n",
       "4       WTF are you talking about Men? No men thats n...   \n",
       "...                                                  ...   \n",
       "19996    I dont. But what is complaining about it goi...   \n",
       "19997   Bahah  yeah i&;m totally just gonna&; get pis...   \n",
       "19998       hahahahaha >:) im evil mwahahahahahahahahaha   \n",
       "19999            What&;s something unique about Ohio? :)   \n",
       "20000              Who is the biggest gossiper you know?   \n",
       "\n",
       "                          annotation  extras  \n",
       "0      {'notes': '', 'label': ['1']}     NaN  \n",
       "1      {'notes': '', 'label': ['1']}     NaN  \n",
       "2      {'notes': '', 'label': ['1']}     NaN  \n",
       "3      {'notes': '', 'label': ['1']}     NaN  \n",
       "4      {'notes': '', 'label': ['1']}     NaN  \n",
       "...                              ...     ...  \n",
       "19996  {'notes': '', 'label': ['0']}     NaN  \n",
       "19997  {'notes': '', 'label': ['0']}     NaN  \n",
       "19998  {'notes': '', 'label': ['0']}     NaN  \n",
       "19999  {'notes': '', 'label': ['0']}     NaN  \n",
       "20000  {'notes': '', 'label': ['0']}     NaN  \n",
       "\n",
       "[20001 rows x 3 columns]>"
      ]
     },
     "execution_count": 8,
     "metadata": {},
     "output_type": "execute_result"
    }
   ],
   "source": [
    "url = 'Dataset for Detection of Cyber-Trolls.json'\n",
    "df = pd.read_json(url, lines= True,orient='columns')\n",
    "df.head"
   ]
  },
  {
   "cell_type": "code",
   "execution_count": 9,
   "metadata": {
    "colab": {
     "base_uri": "https://localhost:8080/"
    },
    "id": "WG0QYg2oBu5V",
    "outputId": "9e869be2-4f6e-4fe0-e500-d94c92f72f6d"
   },
   "outputs": [],
   "source": [
    "for i in range(0, len(df)):\n",
    "    if df.annotation[i]['label'][0] == '1':\n",
    "        df.loc[i, 'annotation'] = 1\n",
    "    else:\n",
    "        df.loc[i, 'annotation'] = 0\n"
   ]
  },
  {
   "cell_type": "code",
   "execution_count": 10,
   "metadata": {
    "colab": {
     "base_uri": "https://localhost:8080/",
     "height": 424
    },
    "id": "zY5rDAE_JfP3",
    "outputId": "a4a262ad-998c-4cd2-f837-9aa6e367481e"
   },
   "outputs": [
    {
     "data": {
      "text/html": [
       "<div>\n",
       "<style scoped>\n",
       "    .dataframe tbody tr th:only-of-type {\n",
       "        vertical-align: middle;\n",
       "    }\n",
       "\n",
       "    .dataframe tbody tr th {\n",
       "        vertical-align: top;\n",
       "    }\n",
       "\n",
       "    .dataframe thead th {\n",
       "        text-align: right;\n",
       "    }\n",
       "</style>\n",
       "<table border=\"1\" class=\"dataframe\">\n",
       "  <thead>\n",
       "    <tr style=\"text-align: right;\">\n",
       "      <th></th>\n",
       "      <th>content</th>\n",
       "      <th>annotation</th>\n",
       "    </tr>\n",
       "  </thead>\n",
       "  <tbody>\n",
       "    <tr>\n",
       "      <th>0</th>\n",
       "      <td>Get fucking real dude.</td>\n",
       "      <td>1</td>\n",
       "    </tr>\n",
       "    <tr>\n",
       "      <th>1</th>\n",
       "      <td>She is as dirty as they come  and that crook ...</td>\n",
       "      <td>1</td>\n",
       "    </tr>\n",
       "    <tr>\n",
       "      <th>2</th>\n",
       "      <td>why did you fuck it up. I could do it all day...</td>\n",
       "      <td>1</td>\n",
       "    </tr>\n",
       "    <tr>\n",
       "      <th>3</th>\n",
       "      <td>Dude they dont finish enclosing the fucking s...</td>\n",
       "      <td>1</td>\n",
       "    </tr>\n",
       "    <tr>\n",
       "      <th>4</th>\n",
       "      <td>WTF are you talking about Men? No men thats n...</td>\n",
       "      <td>1</td>\n",
       "    </tr>\n",
       "    <tr>\n",
       "      <th>...</th>\n",
       "      <td>...</td>\n",
       "      <td>...</td>\n",
       "    </tr>\n",
       "    <tr>\n",
       "      <th>19996</th>\n",
       "      <td>I dont. But what is complaining about it goi...</td>\n",
       "      <td>0</td>\n",
       "    </tr>\n",
       "    <tr>\n",
       "      <th>19997</th>\n",
       "      <td>Bahah  yeah i&amp;;m totally just gonna&amp;; get pis...</td>\n",
       "      <td>0</td>\n",
       "    </tr>\n",
       "    <tr>\n",
       "      <th>19998</th>\n",
       "      <td>hahahahaha &gt;:) im evil mwahahahahahahahahaha</td>\n",
       "      <td>0</td>\n",
       "    </tr>\n",
       "    <tr>\n",
       "      <th>19999</th>\n",
       "      <td>What&amp;;s something unique about Ohio? :)</td>\n",
       "      <td>0</td>\n",
       "    </tr>\n",
       "    <tr>\n",
       "      <th>20000</th>\n",
       "      <td>Who is the biggest gossiper you know?</td>\n",
       "      <td>0</td>\n",
       "    </tr>\n",
       "  </tbody>\n",
       "</table>\n",
       "<p>20001 rows × 2 columns</p>\n",
       "</div>"
      ],
      "text/plain": [
       "                                                 content annotation\n",
       "0                                 Get fucking real dude.          1\n",
       "1       She is as dirty as they come  and that crook ...          1\n",
       "2       why did you fuck it up. I could do it all day...          1\n",
       "3       Dude they dont finish enclosing the fucking s...          1\n",
       "4       WTF are you talking about Men? No men thats n...          1\n",
       "...                                                  ...        ...\n",
       "19996    I dont. But what is complaining about it goi...          0\n",
       "19997   Bahah  yeah i&;m totally just gonna&; get pis...          0\n",
       "19998       hahahahaha >:) im evil mwahahahahahahahahaha          0\n",
       "19999            What&;s something unique about Ohio? :)          0\n",
       "20000              Who is the biggest gossiper you know?          0\n",
       "\n",
       "[20001 rows x 2 columns]"
      ]
     },
     "execution_count": 10,
     "metadata": {},
     "output_type": "execute_result"
    }
   ],
   "source": [
    "df.drop(['extras'],axis = 1,inplace = True)\n",
    "df"
   ]
  },
  {
   "cell_type": "code",
   "execution_count": 11,
   "metadata": {
    "colab": {
     "base_uri": "https://localhost:8080/"
    },
    "id": "e2Z-9RpGJkuO",
    "outputId": "977d28c7-16e1-47c2-baed-556803ca382c"
   },
   "outputs": [
    {
     "data": {
      "text/plain": [
       "(20001, 2)"
      ]
     },
     "execution_count": 11,
     "metadata": {},
     "output_type": "execute_result"
    }
   ],
   "source": [
    "df.shape "
   ]
  },
  {
   "cell_type": "markdown",
   "metadata": {
    "id": "XcnWwdqTMYmW"
   },
   "source": [
    "# Visualization"
   ]
  },
  {
   "cell_type": "code",
   "execution_count": 12,
   "metadata": {
    "colab": {
     "base_uri": "https://localhost:8080/",
     "height": 280
    },
    "id": "UwXnu0sQMbQW",
    "outputId": "33df9e7c-c7a9-482a-fd39-735c538b928d"
   },
   "outputs": [
    {
     "data": {
      "text/plain": [
       "<AxesSubplot:>"
      ]
     },
     "execution_count": 12,
     "metadata": {},
     "output_type": "execute_result"
    },
    {
     "data": {
      "image/png": "[encoded data removed]",
      "text/plain": [
       "<Figure size 432x288 with 1 Axes>"
      ]
     },
     "metadata": {
      "needs_background": "light"
     },
     "output_type": "display_data"
    }
   ],
   "source": [
    "df['annotation'].value_counts().sort_index().plot.bar()"
   ]
  },
  {
   "cell_type": "code",
   "execution_count": 13,
   "metadata": {
    "colab": {
     "base_uri": "https://localhost:8080/"
    },
    "id": "3FGX6jJmikrd",
    "outputId": "6b37390c-4108-43f9-f65e-74c1a6d9e91b"
   },
   "outputs": [
    {
     "name": "stdout",
     "output_type": "stream",
     "text": [
      "PosiNon cyber trollingtive:  60.89195540222989 %\n",
      "Cybertrolling:  39.10804459777012 %\n"
     ]
    }
   ],
   "source": [
    "#Biasness\n",
    "print(\"PosiNon cyber trollingtive: \", df.annotation.value_counts()[0]/len(df.annotation)*100,\"%\")\n",
    "print(\"Cybertrolling: \", df.annotation.value_counts()[1]/len(df.annotation)*100,\"%\")"
   ]
  },
  {
   "cell_type": "code",
   "execution_count": 14,
   "metadata": {},
   "outputs": [
    {
     "name": "stderr",
     "output_type": "stream",
     "text": [
      "[nltk_data] Downloading package stopwords to C:\\Users\\Deepak\n",
      "[nltk_data]     Singh\\AppData\\Roaming\\nltk_data...\n",
      "[nltk_data]   Package stopwords is already up-to-date!\n"
     ]
    },
    {
     "data": {
      "text/html": [
       "<div>\n",
       "<style scoped>\n",
       "    .dataframe tbody tr th:only-of-type {\n",
       "        vertical-align: middle;\n",
       "    }\n",
       "\n",
       "    .dataframe tbody tr th {\n",
       "        vertical-align: top;\n",
       "    }\n",
       "\n",
       "    .dataframe thead th {\n",
       "        text-align: right;\n",
       "    }\n",
       "</style>\n",
       "<table border=\"1\" class=\"dataframe\">\n",
       "  <thead>\n",
       "    <tr style=\"text-align: right;\">\n",
       "      <th></th>\n",
       "      <th>annotation</th>\n",
       "      <th>content_without_puncs</th>\n",
       "    </tr>\n",
       "  </thead>\n",
       "  <tbody>\n",
       "    <tr>\n",
       "      <th>0</th>\n",
       "      <td>1</td>\n",
       "      <td>Get fucking real dude</td>\n",
       "    </tr>\n",
       "    <tr>\n",
       "      <th>1</th>\n",
       "      <td>1</td>\n",
       "      <td>She dirty come crook Rengel Dems fucking corru...</td>\n",
       "    </tr>\n",
       "    <tr>\n",
       "      <th>2</th>\n",
       "      <td>1</td>\n",
       "      <td>fuck up I could day too Lets hour Ping later s...</td>\n",
       "    </tr>\n",
       "    <tr>\n",
       "      <th>3</th>\n",
       "      <td>1</td>\n",
       "      <td>Dude dont finish enclosing fucking showers I h...</td>\n",
       "    </tr>\n",
       "    <tr>\n",
       "      <th>4</th>\n",
       "      <td>1</td>\n",
       "      <td>WTF talking Men No men thats menage thats gay</td>\n",
       "    </tr>\n",
       "    <tr>\n",
       "      <th>...</th>\n",
       "      <td>...</td>\n",
       "      <td>...</td>\n",
       "    </tr>\n",
       "    <tr>\n",
       "      <th>19996</th>\n",
       "      <td>0</td>\n",
       "      <td>I dont But complaining going do</td>\n",
       "    </tr>\n",
       "    <tr>\n",
       "      <th>19997</th>\n",
       "      <td>0</td>\n",
       "      <td>Bahah yeah im totally gonna get pissed talking...</td>\n",
       "    </tr>\n",
       "    <tr>\n",
       "      <th>19998</th>\n",
       "      <td>0</td>\n",
       "      <td>hahahahaha  im evil mwahahahahahahahahaha</td>\n",
       "    </tr>\n",
       "    <tr>\n",
       "      <th>19999</th>\n",
       "      <td>0</td>\n",
       "      <td>Whats something unique Ohio</td>\n",
       "    </tr>\n",
       "    <tr>\n",
       "      <th>20000</th>\n",
       "      <td>0</td>\n",
       "      <td>Who biggest gossiper know</td>\n",
       "    </tr>\n",
       "  </tbody>\n",
       "</table>\n",
       "<p>20001 rows × 2 columns</p>\n",
       "</div>"
      ],
      "text/plain": [
       "      annotation                              content_without_puncs\n",
       "0              1                              Get fucking real dude\n",
       "1              1  She dirty come crook Rengel Dems fucking corru...\n",
       "2              1  fuck up I could day too Lets hour Ping later s...\n",
       "3              1  Dude dont finish enclosing fucking showers I h...\n",
       "4              1      WTF talking Men No men thats menage thats gay\n",
       "...          ...                                                ...\n",
       "19996          0                    I dont But complaining going do\n",
       "19997          0  Bahah yeah im totally gonna get pissed talking...\n",
       "19998          0          hahahahaha  im evil mwahahahahahahahahaha\n",
       "19999          0                       Whats something unique Ohio \n",
       "20000          0                          Who biggest gossiper know\n",
       "\n",
       "[20001 rows x 2 columns]"
      ]
     },
     "execution_count": 14,
     "metadata": {},
     "output_type": "execute_result"
    }
   ],
   "source": [
    "nltk.download('stopwords')\n",
    "stop = stopwords.words('english')\n",
    "\n",
    "regex = re.compile('[%s]' % re.escape(string.punctuation))\n",
    "\n",
    "def test_re(s):\n",
    "    return regex.sub('', s)\n",
    "\n",
    "df['content_without_stopwords'] = df['content'].apply(lambda x: ' '.join([word for word in x.split() if word not in (stop)]))\n",
    "df['content_without_puncs'] = df['content_without_stopwords'].apply(lambda x: regex.sub('',x))\n",
    "del df['content_without_stopwords']\n",
    "del df['content']\n",
    "df\n"
   ]
  },
  {
   "cell_type": "markdown",
   "metadata": {
    "id": "RGBzITynLQg4"
   },
   "source": [
    "# Preprocessing"
   ]
  },
  {
   "cell_type": "code",
   "execution_count": 15,
   "metadata": {
    "colab": {
     "base_uri": "https://localhost:8080/",
     "height": 460
    },
    "id": "p0zjVqoqME5j",
    "outputId": "c3082213-0088-4205-ef56-26a58ee43628"
   },
   "outputs": [
    {
     "name": "stderr",
     "output_type": "stream",
     "text": [
      "[nltk_data] Downloading package punkt to C:\\Users\\Deepak\n",
      "[nltk_data]     Singh\\AppData\\Roaming\\nltk_data...\n",
      "[nltk_data]   Package punkt is already up-to-date!\n"
     ]
    },
    {
     "data": {
      "text/html": [
       "<div>\n",
       "<style scoped>\n",
       "    .dataframe tbody tr th:only-of-type {\n",
       "        vertical-align: middle;\n",
       "    }\n",
       "\n",
       "    .dataframe tbody tr th {\n",
       "        vertical-align: top;\n",
       "    }\n",
       "\n",
       "    .dataframe thead th {\n",
       "        text-align: right;\n",
       "    }\n",
       "</style>\n",
       "<table border=\"1\" class=\"dataframe\">\n",
       "  <thead>\n",
       "    <tr style=\"text-align: right;\">\n",
       "      <th></th>\n",
       "      <th>annotation</th>\n",
       "      <th>content_tokenize</th>\n",
       "    </tr>\n",
       "  </thead>\n",
       "  <tbody>\n",
       "    <tr>\n",
       "      <th>0</th>\n",
       "      <td>1</td>\n",
       "      <td>get fuck real dude</td>\n",
       "    </tr>\n",
       "    <tr>\n",
       "      <th>1</th>\n",
       "      <td>1</td>\n",
       "      <td>she dirti come crook rengel dem fuck corrupt ...</td>\n",
       "    </tr>\n",
       "    <tr>\n",
       "      <th>2</th>\n",
       "      <td>1</td>\n",
       "      <td>fuck up i could day too let hour ping later s...</td>\n",
       "    </tr>\n",
       "    <tr>\n",
       "      <th>3</th>\n",
       "      <td>1</td>\n",
       "      <td>dude dont finish enclos fuck shower i hate ha...</td>\n",
       "    </tr>\n",
       "    <tr>\n",
       "      <th>4</th>\n",
       "      <td>1</td>\n",
       "      <td>wtf talk men no men that menag that gay</td>\n",
       "    </tr>\n",
       "    <tr>\n",
       "      <th>...</th>\n",
       "      <td>...</td>\n",
       "      <td>...</td>\n",
       "    </tr>\n",
       "    <tr>\n",
       "      <th>19996</th>\n",
       "      <td>0</td>\n",
       "      <td>i dont but complain go do</td>\n",
       "    </tr>\n",
       "    <tr>\n",
       "      <th>19997</th>\n",
       "      <td>0</td>\n",
       "      <td>bahah yeah im total gon na get piss talk you ...</td>\n",
       "    </tr>\n",
       "    <tr>\n",
       "      <th>19998</th>\n",
       "      <td>0</td>\n",
       "      <td>hahahahaha im evil mwahahahahahahahahaha</td>\n",
       "    </tr>\n",
       "    <tr>\n",
       "      <th>19999</th>\n",
       "      <td>0</td>\n",
       "      <td>what someth uniqu ohio</td>\n",
       "    </tr>\n",
       "    <tr>\n",
       "      <th>20000</th>\n",
       "      <td>0</td>\n",
       "      <td>who biggest gossip know</td>\n",
       "    </tr>\n",
       "  </tbody>\n",
       "</table>\n",
       "<p>20001 rows × 2 columns</p>\n",
       "</div>"
      ],
      "text/plain": [
       "      annotation                                   content_tokenize\n",
       "0              1                                 get fuck real dude\n",
       "1              1   she dirti come crook rengel dem fuck corrupt ...\n",
       "2              1   fuck up i could day too let hour ping later s...\n",
       "3              1   dude dont finish enclos fuck shower i hate ha...\n",
       "4              1            wtf talk men no men that menag that gay\n",
       "...          ...                                                ...\n",
       "19996          0                          i dont but complain go do\n",
       "19997          0   bahah yeah im total gon na get piss talk you ...\n",
       "19998          0           hahahahaha im evil mwahahahahahahahahaha\n",
       "19999          0                             what someth uniqu ohio\n",
       "20000          0                            who biggest gossip know\n",
       "\n",
       "[20001 rows x 2 columns]"
      ]
     },
     "execution_count": 15,
     "metadata": {},
     "output_type": "execute_result"
    }
   ],
   "source": [
    "#Stemming\n",
    "porter_stemmer = PorterStemmer()\n",
    "#punctuations\n",
    "nltk.download('punkt')\n",
    "tok_list = []\n",
    "size = df.shape[0]\n",
    "\n",
    "for i in range(size):\n",
    "  word_data = df['content_without_puncs'][i]\n",
    "  nltk_tokens = nltk.word_tokenize(word_data)\n",
    "  final = ''\n",
    "  for w in nltk_tokens:\n",
    "    final = final + ' ' + porter_stemmer.stem(w)\n",
    "  tok_list.append(final)\n",
    "\n",
    "df['content_tokenize'] = tok_list\n",
    "del df['content_without_puncs']\n",
    "df"
   ]
  },
  {
   "cell_type": "code",
   "execution_count": 16,
   "metadata": {
    "colab": {
     "base_uri": "https://localhost:8080/",
     "height": 424
    },
    "id": "aKzuLpipUbLb",
    "outputId": "8e7e1266-406f-40bc-ff63-40d022170c29"
   },
   "outputs": [
    {
     "data": {
      "text/html": [
       "<div>\n",
       "<style scoped>\n",
       "    .dataframe tbody tr th:only-of-type {\n",
       "        vertical-align: middle;\n",
       "    }\n",
       "\n",
       "    .dataframe tbody tr th {\n",
       "        vertical-align: top;\n",
       "    }\n",
       "\n",
       "    .dataframe thead th {\n",
       "        text-align: right;\n",
       "    }\n",
       "</style>\n",
       "<table border=\"1\" class=\"dataframe\">\n",
       "  <thead>\n",
       "    <tr style=\"text-align: right;\">\n",
       "      <th></th>\n",
       "      <th>annotation</th>\n",
       "      <th>content_tokenize</th>\n",
       "      <th>content</th>\n",
       "    </tr>\n",
       "  </thead>\n",
       "  <tbody>\n",
       "    <tr>\n",
       "      <th>0</th>\n",
       "      <td>1</td>\n",
       "      <td>get fuck real dude</td>\n",
       "      <td>get fuck real dude</td>\n",
       "    </tr>\n",
       "    <tr>\n",
       "      <th>1</th>\n",
       "      <td>1</td>\n",
       "      <td>she dirti come crook rengel dem fuck corrupt ...</td>\n",
       "      <td>she dirti come crook rengel dem fuck corrupt ...</td>\n",
       "    </tr>\n",
       "    <tr>\n",
       "      <th>2</th>\n",
       "      <td>1</td>\n",
       "      <td>fuck up i could day too let hour ping later s...</td>\n",
       "      <td>fuck up i could day too let hour ping later s...</td>\n",
       "    </tr>\n",
       "    <tr>\n",
       "      <th>3</th>\n",
       "      <td>1</td>\n",
       "      <td>dude dont finish enclos fuck shower i hate ha...</td>\n",
       "      <td>dude dont finish enclos fuck shower i hate ha...</td>\n",
       "    </tr>\n",
       "    <tr>\n",
       "      <th>4</th>\n",
       "      <td>1</td>\n",
       "      <td>wtf talk men no men that menag that gay</td>\n",
       "      <td>wtf talk men no men that menag that gay</td>\n",
       "    </tr>\n",
       "    <tr>\n",
       "      <th>...</th>\n",
       "      <td>...</td>\n",
       "      <td>...</td>\n",
       "      <td>...</td>\n",
       "    </tr>\n",
       "    <tr>\n",
       "      <th>19996</th>\n",
       "      <td>0</td>\n",
       "      <td>i dont but complain go do</td>\n",
       "      <td>i dont but complain go do</td>\n",
       "    </tr>\n",
       "    <tr>\n",
       "      <th>19997</th>\n",
       "      <td>0</td>\n",
       "      <td>bahah yeah im total gon na get piss talk you ...</td>\n",
       "      <td>bahah yeah im total gon na get piss talk you ...</td>\n",
       "    </tr>\n",
       "    <tr>\n",
       "      <th>19998</th>\n",
       "      <td>0</td>\n",
       "      <td>hahahahaha im evil mwahahahahahahahahaha</td>\n",
       "      <td>hahahahaha im evil mwahahahahahahahahaha</td>\n",
       "    </tr>\n",
       "    <tr>\n",
       "      <th>19999</th>\n",
       "      <td>0</td>\n",
       "      <td>what someth uniqu ohio</td>\n",
       "      <td>what someth uniqu ohio</td>\n",
       "    </tr>\n",
       "    <tr>\n",
       "      <th>20000</th>\n",
       "      <td>0</td>\n",
       "      <td>who biggest gossip know</td>\n",
       "      <td>who biggest gossip know</td>\n",
       "    </tr>\n",
       "  </tbody>\n",
       "</table>\n",
       "<p>20001 rows × 3 columns</p>\n",
       "</div>"
      ],
      "text/plain": [
       "      annotation                                   content_tokenize  \\\n",
       "0              1                                 get fuck real dude   \n",
       "1              1   she dirti come crook rengel dem fuck corrupt ...   \n",
       "2              1   fuck up i could day too let hour ping later s...   \n",
       "3              1   dude dont finish enclos fuck shower i hate ha...   \n",
       "4              1            wtf talk men no men that menag that gay   \n",
       "...          ...                                                ...   \n",
       "19996          0                          i dont but complain go do   \n",
       "19997          0   bahah yeah im total gon na get piss talk you ...   \n",
       "19998          0           hahahahaha im evil mwahahahahahahahahaha   \n",
       "19999          0                             what someth uniqu ohio   \n",
       "20000          0                            who biggest gossip know   \n",
       "\n",
       "                                                 content  \n",
       "0                                     get fuck real dude  \n",
       "1       she dirti come crook rengel dem fuck corrupt ...  \n",
       "2       fuck up i could day too let hour ping later s...  \n",
       "3       dude dont finish enclos fuck shower i hate ha...  \n",
       "4                wtf talk men no men that menag that gay  \n",
       "...                                                  ...  \n",
       "19996                          i dont but complain go do  \n",
       "19997   bahah yeah im total gon na get piss talk you ...  \n",
       "19998           hahahahaha im evil mwahahahahahahahahaha  \n",
       "19999                             what someth uniqu ohio  \n",
       "20000                            who biggest gossip know  \n",
       "\n",
       "[20001 rows x 3 columns]"
      ]
     },
     "execution_count": 16,
     "metadata": {},
     "output_type": "execute_result"
    }
   ],
   "source": [
    "noNums = []\n",
    "for i in range(len(df)):\n",
    "  noNums.append(''.join([i for i in df['content_tokenize'][i] if not i.isdigit()]))\n",
    "\n",
    "df['content'] = noNums\n",
    "df"
   ]
  },
  {
   "cell_type": "code",
   "execution_count": 17,
   "metadata": {
    "id": "Ft1hdwsMte03"
   },
   "outputs": [],
   "source": [
    "tfIdfVectorizer=TfidfVectorizer(use_idf=True, sublinear_tf=True)\n",
    "tfIdf = tfIdfVectorizer.fit_transform(df.content.tolist())"
   ]
  },
  {
   "cell_type": "code",
   "execution_count": 18,
   "metadata": {
    "colab": {
     "base_uri": "https://localhost:8080/"
    },
    "id": "cb2WDQ4nv93h",
    "outputId": "8653b5e0-e439-4868-f17d-72bf3fa4806c"
   },
   "outputs": [
    {
     "name": "stdout",
     "output_type": "stream",
     "text": [
      "  (0, 3599)\t0.5682792040556577\n",
      "  (0, 10536)\t0.6408032598619846\n",
      "  (0, 4666)\t0.3314842764826402\n",
      "  (0, 4897)\t0.3956616014132561\n",
      "  (1, 7498)\t0.1421522208901913\n",
      "  (1, 7671)\t0.18997382467613527\n",
      "  (1, 10709)\t0.3380770158779807\n",
      "  (1, 7870)\t0.17712641457020445\n",
      "  (1, 6882)\t0.2707206754001475\n",
      "  (1, 2650)\t0.3478358132370042\n",
      "  (1, 3128)\t0.36956626902789813\n",
      "  (1, 10688)\t0.36956626902789813\n",
      "  (1, 2792)\t0.3609013757539863\n",
      "  (1, 2454)\t0.20014266836955738\n",
      "  (1, 3307)\t0.294004579420996\n",
      "  (1, 11404)\t0.24231137330135857\n",
      "  (1, 4666)\t0.12302268120056382\n",
      "  (2, 5649)\t0.26264752682375\n",
      "  (2, 1476)\t0.2858475342270202\n",
      "  (2, 14422)\t0.28761927584628644\n",
      "  (2, 11158)\t0.4130661580674724\n",
      "  (2, 7318)\t0.3061308801267633\n",
      "  (2, 9786)\t0.38298243181872793\n",
      "  (2, 5957)\t0.28144866948736874\n",
      "  (2, 7435)\t0.24199503289435126\n",
      "  :\t:\n",
      "  (19997, 8529)\t0.362558005670761\n",
      "  (19997, 14529)\t0.1829917686470462\n",
      "  (19997, 364)\t0.2524980709313037\n",
      "  (19997, 8634)\t0.19487099515279527\n",
      "  (19997, 5040)\t0.21529577669215724\n",
      "  (19997, 14641)\t0.15162817445998714\n",
      "  (19997, 5312)\t0.2322934882970198\n",
      "  (19997, 9800)\t0.22212274676003707\n",
      "  (19997, 13163)\t0.22711912398563924\n",
      "  (19997, 6368)\t0.1396437116782225\n",
      "  (19997, 12784)\t0.14437044050700218\n",
      "  (19997, 12585)\t0.21638447818263024\n",
      "  (19997, 4897)\t0.14751463907596812\n",
      "  (19998, 8601)\t0.6474267500657062\n",
      "  (19998, 5356)\t0.5240398795250955\n",
      "  (19998, 4015)\t0.5046761457592059\n",
      "  (19998, 6368)\t0.22698633410034566\n",
      "  (19999, 13561)\t0.6577171835959204\n",
      "  (19999, 9146)\t0.5711145182804813\n",
      "  (19999, 11872)\t0.38585942493978787\n",
      "  (19999, 14103)\t0.30388948253771536\n",
      "  (20000, 5086)\t0.7029240479741253\n",
      "  (20000, 1246)\t0.5142345992116426\n",
      "  (20000, 14163)\t0.4012493121480635\n",
      "  (20000, 7154)\t0.28365392515178917\n"
     ]
    }
   ],
   "source": [
    "print(tfIdf)"
   ]
  },
  {
   "cell_type": "code",
   "execution_count": 19,
   "metadata": {
    "colab": {
     "base_uri": "https://localhost:8080/"
    },
    "id": "oiS6vofL6oVg",
    "outputId": "265c86aa-800a-47d5-92cd-e58c11689a6d"
   },
   "outputs": [
    {
     "name": "stdout",
     "output_type": "stream",
     "text": [
      "(20001, 14785)\n"
     ]
    }
   ],
   "source": [
    "print(tfIdf.shape) # means total rows  20001 with 14783 features"
   ]
  },
  {
   "cell_type": "code",
   "execution_count": 20,
   "metadata": {
    "colab": {
     "base_uri": "https://localhost:8080/"
    },
    "id": "iTtnFAZUwC4q",
    "outputId": "fae8f5f8-a6a9-4926-875b-bf40ab0578b3"
   },
   "outputs": [
    {
     "name": "stdout",
     "output_type": "stream",
     "text": [
      "         TF-IDF\n",
      "sched  0.413066\n",
      "ping   0.382982\n",
      "later  0.306131\n",
      "write  0.287619\n",
      "book   0.285848\n",
      "hour   0.281449\n",
      "here   0.262648\n",
      "let    0.241995\n",
      "up     0.237401\n",
      "could  0.223151\n"
     ]
    },
    {
     "name": "stderr",
     "output_type": "stream",
     "text": [
      "C:\\Users\\Deepak Singh\\anaconda3\\lib\\site-packages\\sklearn\\utils\\deprecation.py:87: FutureWarning: Function get_feature_names is deprecated; get_feature_names is deprecated in 1.0 and will be removed in 1.2. Please use get_feature_names_out instead.\n",
      "  warnings.warn(msg, category=FutureWarning)\n"
     ]
    }
   ],
   "source": [
    "df2 = pd.DataFrame(tfIdf[2].T.todense(), index=tfIdfVectorizer.get_feature_names(), columns=[\"TF-IDF\"]) #for second entry only(just to check if working)\n",
    "df2 = df2.sort_values('TF-IDF', ascending=False)\n",
    "print (df2.head(10))"
   ]
  },
  {
   "cell_type": "code",
   "execution_count": 21,
   "metadata": {
    "colab": {
     "base_uri": "https://localhost:8080/"
    },
    "id": "YmJnUKdTwfKB",
    "outputId": "7d5be515-c14d-4c5f-bbae-ab0bacecd528"
   },
   "outputs": [
    {
     "name": "stdout",
     "output_type": "stream",
     "text": [
      "        aa  aaaaaaaaaa  aaaaaanndgummi  aaaagh  aaaawwwww  aaand  \\\n",
      "0      0.0         0.0             0.0     0.0        0.0    0.0   \n",
      "1      0.0         0.0             0.0     0.0        0.0    0.0   \n",
      "2      0.0         0.0             0.0     0.0        0.0    0.0   \n",
      "3      0.0         0.0             0.0     0.0        0.0    0.0   \n",
      "4      0.0         0.0             0.0     0.0        0.0    0.0   \n",
      "...    ...         ...             ...     ...        ...    ...   \n",
      "19996  0.0         0.0             0.0     0.0        0.0    0.0   \n",
      "19997  0.0         0.0             0.0     0.0        0.0    0.0   \n",
      "19998  0.0         0.0             0.0     0.0        0.0    0.0   \n",
      "19999  0.0         0.0             0.0     0.0        0.0    0.0   \n",
      "20000  0.0         0.0             0.0     0.0        0.0    0.0   \n",
      "\n",
      "       aaanyyywhoooooooo  aaargh  aaarrrg  aah  ...  zon  zone  zoo  zoom  \\\n",
      "0                    0.0     0.0      0.0  0.0  ...  0.0   0.0  0.0   0.0   \n",
      "1                    0.0     0.0      0.0  0.0  ...  0.0   0.0  0.0   0.0   \n",
      "2                    0.0     0.0      0.0  0.0  ...  0.0   0.0  0.0   0.0   \n",
      "3                    0.0     0.0      0.0  0.0  ...  0.0   0.0  0.0   0.0   \n",
      "4                    0.0     0.0      0.0  0.0  ...  0.0   0.0  0.0   0.0   \n",
      "...                  ...     ...      ...  ...  ...  ...   ...  ...   ...   \n",
      "19996                0.0     0.0      0.0  0.0  ...  0.0   0.0  0.0   0.0   \n",
      "19997                0.0     0.0      0.0  0.0  ...  0.0   0.0  0.0   0.0   \n",
      "19998                0.0     0.0      0.0  0.0  ...  0.0   0.0  0.0   0.0   \n",
      "19999                0.0     0.0      0.0  0.0  ...  0.0   0.0  0.0   0.0   \n",
      "20000                0.0     0.0      0.0  0.0  ...  0.0   0.0  0.0   0.0   \n",
      "\n",
      "       zro  zucker  zune  zzzz  zzzzzz  zzzzzzzz  \n",
      "0      0.0     0.0   0.0   0.0     0.0       0.0  \n",
      "1      0.0     0.0   0.0   0.0     0.0       0.0  \n",
      "2      0.0     0.0   0.0   0.0     0.0       0.0  \n",
      "3      0.0     0.0   0.0   0.0     0.0       0.0  \n",
      "4      0.0     0.0   0.0   0.0     0.0       0.0  \n",
      "...    ...     ...   ...   ...     ...       ...  \n",
      "19996  0.0     0.0   0.0   0.0     0.0       0.0  \n",
      "19997  0.0     0.0   0.0   0.0     0.0       0.0  \n",
      "19998  0.0     0.0   0.0   0.0     0.0       0.0  \n",
      "19999  0.0     0.0   0.0   0.0     0.0       0.0  \n",
      "20000  0.0     0.0   0.0   0.0     0.0       0.0  \n",
      "\n",
      "[20001 rows x 14785 columns]\n"
     ]
    },
    {
     "name": "stderr",
     "output_type": "stream",
     "text": [
      "C:\\Users\\Deepak Singh\\anaconda3\\lib\\site-packages\\sklearn\\utils\\deprecation.py:87: FutureWarning: Function get_feature_names is deprecated; get_feature_names is deprecated in 1.0 and will be removed in 1.2. Please use get_feature_names_out instead.\n",
      "  warnings.warn(msg, category=FutureWarning)\n"
     ]
    }
   ],
   "source": [
    "dfx = pd.DataFrame(tfIdf.toarray(), columns = tfIdfVectorizer.get_feature_names())\n",
    "print(dfx)"
   ]
  },
  {
   "cell_type": "code",
   "execution_count": 22,
   "metadata": {
    "id": "dPnN_5Zs5oRT"
   },
   "outputs": [],
   "source": [
    "def display_scores(vectorizer, tfidf_result):\n",
    "    scores = zip(vectorizer.get_feature_names(),\n",
    "                 np.asarray(tfidf_result.sum(axis=0)).ravel())\n",
    "    sorted_scores = sorted(scores, key=lambda x: x[1], reverse=True)\n",
    "    i=0\n",
    "    for item in sorted_scores:\n",
    "        print (\"{0:50} Score: {1}\".format(item[0], item[1]))\n",
    "        i = i+1\n",
    "        if (i > 25):\n",
    "          break"
   ]
  },
  {
   "cell_type": "code",
   "execution_count": 23,
   "metadata": {
    "colab": {
     "base_uri": "https://localhost:8080/"
    },
    "id": "Fhclr5Bs54f5",
    "outputId": "661b6988-f851-4045-b1d4-10e427328729"
   },
   "outputs": [
    {
     "name": "stdout",
     "output_type": "stream",
     "text": [
      "hate                                               Score: 533.8155899183665\n",
      "fuck                                               Score: 503.761027940121\n",
      "damn                                               Score: 482.3766280806648\n",
      "suck                                               Score: 407.3775243830333\n",
      "ass                                                Score: 337.54063310904644\n",
      "that                                               Score: 311.6248067321706\n",
      "lol                                                Score: 297.99576995024535\n",
      "im                                                 Score: 296.02151699066417\n",
      "like                                               Score: 287.81819684009247\n",
      "you                                                Score: 284.7844198654016\n",
      "it                                                 Score: 254.7571429454036\n",
      "get                                                Score: 253.13900797210226\n",
      "what                                               Score: 221.4366431927156\n",
      "know                                               Score: 211.5358015642586\n",
      "would                                              Score: 202.50728248964532\n",
      "bitch                                              Score: 193.08798976828896\n",
      "ye                                                 Score: 182.22298628433555\n",
      "love                                               Score: 181.49002563234717\n",
      "go                                                 Score: 180.25854061529202\n",
      "haha                                               Score: 179.2945603768887\n",
      "think                                              Score: 178.90378194020045\n",
      "one                                                Score: 174.1600863621335\n",
      "do                                                 Score: 160.57524326080593\n",
      "time                                               Score: 160.10970982562233\n",
      "gay                                                Score: 159.5819935808682\n",
      "peopl                                              Score: 151.04453209706\n"
     ]
    },
    {
     "name": "stderr",
     "output_type": "stream",
     "text": [
      "C:\\Users\\Deepak Singh\\anaconda3\\lib\\site-packages\\sklearn\\utils\\deprecation.py:87: FutureWarning: Function get_feature_names is deprecated; get_feature_names is deprecated in 1.0 and will be removed in 1.2. Please use get_feature_names_out instead.\n",
      "  warnings.warn(msg, category=FutureWarning)\n"
     ]
    }
   ],
   "source": [
    "#top 25 words\n",
    "display_scores(tfIdfVectorizer, tfIdf)"
   ]
  },
  {
   "cell_type": "code",
   "execution_count": 24,
   "metadata": {
    "colab": {
     "base_uri": "https://localhost:8080/"
    },
    "id": "nQZngbDHd4x_",
    "outputId": "90e094f7-88c1-40e6-ffc5-569efd45374d"
   },
   "outputs": [
    {
     "name": "stdout",
     "output_type": "stream",
     "text": [
      "(16000, 14785)\n",
      "(16000,)\n",
      "(4001, 14785)\n",
      "(4001,)\n"
     ]
    }
   ],
   "source": [
    "X=tfIdf.toarray()\n",
    "y = np.array(df.annotation.tolist())\n",
    "#Spltting\n",
    "X_train, X_test, y_train, y_test = train_test_split(X, y, test_size=0.2, random_state=0)\n",
    "\n",
    "print(X_train.shape)\n",
    "print(y_train.shape)\n",
    "print(X_test.shape)\n",
    "print(y_test.shape)"
   ]
  },
  {
   "cell_type": "code",
   "execution_count": 25,
   "metadata": {
    "colab": {
     "base_uri": "https://localhost:8080/"
    },
    "id": "-SjTzm2fjKEE",
    "outputId": "fb397371-833a-40c2-e167-cb0a0cab6b5a"
   },
   "outputs": [
    {
     "name": "stdout",
     "output_type": "stream",
     "text": [
      "[[   0    1]\n",
      " [9750 6250]]\n"
     ]
    }
   ],
   "source": [
    "#Training data biasness\n",
    "unique_elements, counts_elements = np.unique(y_train, return_counts=True)\n",
    "print(np.asarray((unique_elements, counts_elements)))"
   ]
  },
  {
   "cell_type": "code",
   "execution_count": 26,
   "metadata": {
    "colab": {
     "base_uri": "https://localhost:8080/"
    },
    "id": "dkt2VjU8kXLl",
    "outputId": "bc0f3d3d-c2c2-4632-aac6-adc90b045cbb"
   },
   "outputs": [
    {
     "name": "stdout",
     "output_type": "stream",
     "text": [
      "[[   0    1]\n",
      " [2429 1572]]\n"
     ]
    }
   ],
   "source": [
    "#Test Data\n",
    "unique_elements, counts_elements = np.unique(y_test, return_counts=True)\n",
    "print(np.asarray((unique_elements, counts_elements)))"
   ]
  },
  {
   "cell_type": "code",
   "execution_count": 27,
   "metadata": {
    "colab": {
     "base_uri": "https://localhost:8080/"
    },
    "id": "vEkoOucMrtcT",
    "outputId": "d4c98288-7a56-4da3-e1f5-a63001e1adb9"
   },
   "outputs": [],
   "source": [
    "#Random oversampling on training data\n",
    "from imblearn.over_sampling import RandomOverSampler\n",
    "\n",
    "oversample = RandomOverSampler(sampling_strategy='not majority')\n",
    "X_over, y_over = oversample.fit_resample(X_train, y_train)"
   ]
  },
  {
   "cell_type": "code",
   "execution_count": 28,
   "metadata": {
    "colab": {
     "base_uri": "https://localhost:8080/"
    },
    "id": "6uPLIoFAsQFf",
    "outputId": "c044bb82-9088-4952-d240-9ca5c1a518f3"
   },
   "outputs": [
    {
     "name": "stdout",
     "output_type": "stream",
     "text": [
      "(19500, 14785)\n",
      "(19500,)\n"
     ]
    }
   ],
   "source": [
    "print(X_over.shape)\n",
    "print(y_over.shape)"
   ]
  },
  {
   "cell_type": "code",
   "execution_count": 29,
   "metadata": {
    "colab": {
     "base_uri": "https://localhost:8080/"
    },
    "id": "QbrJ3WGiyPp3",
    "outputId": "c1a7cd61-3eb5-4de9-a156-0360783e8955"
   },
   "outputs": [
    {
     "name": "stdout",
     "output_type": "stream",
     "text": [
      "[[   0    1]\n",
      " [9750 9750]]\n"
     ]
    }
   ],
   "source": [
    "unique_elements, counts_elements = np.unique(y_over, return_counts=True)\n",
    "print(np.asarray((unique_elements, counts_elements)))"
   ]
  },
  {
   "cell_type": "markdown",
   "metadata": {
    "id": "iuMzc-_HHn16"
   },
   "source": [
    "# Training and Calculating Scores"
   ]
  },
  {
   "cell_type": "code",
   "execution_count": 30,
   "metadata": {},
   "outputs": [],
   "source": [
    "def preprocess_input(input_text):\n",
    "    # Remove punctuation and convert to lowercase\n",
    "    input_text = input_text.lower()\n",
    "    input_text = re.sub(f\"[{re.escape(string.punctuation)}]\", \"\", input_text)\n",
    "    \n",
    "    # Tokenize and remove stopwords\n",
    "    tokens = nltk.word_tokenize(input_text)\n",
    "    tokens = [word for word in tokens if word not in stopwords.words('english')]\n",
    "    \n",
    "    # Stem the words\n",
    "    porter_stemmer = PorterStemmer()\n",
    "    tokens = [porter_stemmer.stem(word) for word in tokens]\n",
    "    \n",
    "    return \" \".join(tokens)\n",
    "\n",
    "# Function to display statistics and visualizations\n",
    "def display_stats_and_visualizations(model, X_test, y_test):\n",
    "    print(classification_report(y_test, y_pred))\n",
    "    \n",
    "    disp = plot_precision_recall_curve(model, X_test, y_test)\n",
    "    disp.ax_.set_title('2-class Precision-Recall curve: AP={0:0.2f}'.format(\n",
    "        disp.average_precision))\n",
    "    \n",
    "    logit_roc_auc = roc_auc_score(y_test, model.predict(X_test))\n",
    "    fpr, tpr, thresholds = roc_curve(y_test, model.predict_proba(X_test)[:,1])\n",
    "    \n",
    "    plt.figure()\n",
    "    plt.plot(fpr, tpr, label='(area = %0.2f)' % logit_roc_auc)\n",
    "    plt.plot([0, 1], [0, 1],'r--')\n",
    "    plt.xlim([0.0, 1.0])\n",
    "    plt.ylim([0.0, 1.05])\n",
    "    plt.xlabel('False Positive Rate')\n",
    "    plt.ylabel('True Positive Rate')\n",
    "    plt.title('Receiver operating characteristic')\n",
    "    plt.legend(loc=\"lower right\")\n",
    "    plt.savefig('Log_ROC')\n",
    "    plt.show()\n"
   ]
  },
  {
   "cell_type": "markdown",
   "metadata": {
    "id": "yO0CzuCxHxVb"
   },
   "source": [
    "## Normal Methods"
   ]
  },
  {
   "cell_type": "code",
   "execution_count": 31,
   "metadata": {},
   "outputs": [
    {
     "name": "stdout",
     "output_type": "stream",
     "text": [
      "Accuracy:  0.799550112471882\n",
      "Confusion Matrix: \n",
      " [[1911  518]\n",
      " [ 284 1288]]\n",
      "              precision    recall  f1-score   support\n",
      "\n",
      "           0       0.87      0.79      0.83      2429\n",
      "           1       0.71      0.82      0.76      1572\n",
      "\n",
      "    accuracy                           0.80      4001\n",
      "   macro avg       0.79      0.80      0.79      4001\n",
      "weighted avg       0.81      0.80      0.80      4001\n",
      "\n"
     ]
    },
    {
     "name": "stderr",
     "output_type": "stream",
     "text": [
      "C:\\Users\\Deepak Singh\\anaconda3\\lib\\site-packages\\sklearn\\utils\\deprecation.py:87: FutureWarning: Function plot_precision_recall_curve is deprecated; Function `plot_precision_recall_curve` is deprecated in 1.0 and will be removed in 1.2. Use one of the class methods: PrecisionRecallDisplay.from_predictions or PrecisionRecallDisplay.from_estimator.\n",
      "  warnings.warn(msg, category=FutureWarning)\n"
     ]
    },
    {
     "data": {
      "image/png": "[encoded data removed]",
      "text/plain": [
       "<Figure size 432x288 with 1 Axes>"
      ]
     },
     "metadata": {
      "needs_background": "light"
     },
     "output_type": "display_data"
    },
    {
     "data": {
      "image/png": "[encoded data removed]",
      "text/plain": [
       "<Figure size 432x288 with 1 Axes>"
      ]
     },
     "metadata": {
      "needs_background": "light"
     },
     "output_type": "display_data"
    }
   ],
   "source": [
    "lgr = LogisticRegression()\n",
    "lgr.fit(X_over, y_over)\n",
    "\n",
    "# Make predictions on the test data\n",
    "y_pred = lgr.predict(X_test)\n",
    "\n",
    "# Print accuracy and confusion matrix\n",
    "print(\"Accuracy: \", metrics.accuracy_score(y_test, y_pred))\n",
    "print(\"Confusion Matrix: \\n\", confusion_matrix(y_test, y_pred))\n",
    "\n",
    "# Display additional statistics and visualizations\n",
    "display_stats_and_visualizations(lgr, X_test, y_test)"
   ]
  },
  {
   "cell_type": "code",
   "execution_count": 32,
   "metadata": {},
   "outputs": [
    {
     "name": "stdout",
     "output_type": "stream",
     "text": [
      "Enter a text (or 'exit' to quit): dick\n",
      "Result: Cyberbullying\n"
     ]
    }
   ],
   "source": [
    "\n",
    "user_input = input(\"Enter a text (or 'exit' to quit): \")\n",
    "    \n",
    "    \n",
    "    # Preprocess the user input\n",
    "preprocessed_input = preprocess_input(user_input)\n",
    "    \n",
    "    # Create a DataFrame to match the format expected by your TF-IDF vectorizer\n",
    "data = {'content': [preprocessed_input]}\n",
    "user_df = pd.DataFrame(data)\n",
    "    \n",
    "    # Transform the user input using the vectorizer\n",
    "tfidf_result = tfIdfVectorizer.transform(user_df['content'])\n",
    "    \n",
    "    # Make a prediction using your trained model\n",
    "prediction = lgr.predict(tfidf_result)\n",
    "    \n",
    "    # Display the prediction\n",
    "if prediction == 1:\n",
    "    print(\"Result: Cyberbullying\")\n",
    "    \n",
    "else:\n",
    "    print(\"Result: Not Cyberbullying\")\n",
    "        \n",
    "        "
   ]
  },
  {
   "cell_type": "code",
   "execution_count": 33,
   "metadata": {},
   "outputs": [],
   "source": [
    "# gnb = GaussianNB()\n",
    "# gnb_model = gnb.fit(X_over, y_over)\n",
    "\n",
    "# # Make predictions on the test data with GNB\n",
    "# y_pred_gnb = gnb_model.predict(X_test)\n",
    "\n",
    "# # Print accuracy and confusion matrix for GNB\n",
    "# print(\"GNB Accuracy: \", metrics.accuracy_score(y_test, y_pred_gnb))\n",
    "# print(\"GNB Confusion Matrix: \\n\", confusion_matrix(y_test, y_pred_gnb))\n",
    "\n",
    "# # Display additional statistics and visualizations for GNB\n",
    "# display_stats_and_visualizations(gnb, X_test, y_test)"
   ]
  },
  {
   "cell_type": "code",
   "execution_count": 34,
   "metadata": {},
   "outputs": [],
   "source": [
    "# rfc = RandomForestClassifier(verbose=True) \n",
    "# rfcmodel = rfc.fit(X_over, y_over)\n",
    "# y_pred = rfc.predict(X_test)\n",
    "# print (\"Score:\", rfcmodel.score(X_test, y_test))\n",
    "# print(\"Confusion Matrix: \\n\", confusion_matrix(y_test, y_pred))\n",
    "# display_stats_and_visualizations(rfc, X_test, y_test)"
   ]
  },
  {
   "cell_type": "code",
   "execution_count": 35,
   "metadata": {},
   "outputs": [],
   "source": [
    "\n",
    "# user_input = input(\"Enter a text (or 'exit' to quit): \")\n",
    "    \n",
    "    \n",
    "#     # Preprocess the user input\n",
    "# preprocessed_input = preprocess_input(user_input)\n",
    "    \n",
    "#     # Create a DataFrame to match the format expected by your TF-IDF vectorizer\n",
    "# data = {'content': [preprocessed_input]}\n",
    "# user_df = pd.DataFrame(data)\n",
    "    \n",
    "#     # Transform the user input using the vectorizer\n",
    "# tfidf_result = tfIdfVectorizer.transform(user_df['content'])\n",
    "    \n",
    "#     # Make a prediction using your trained model\n",
    "# prediction = rfc.predict(tfidf_result)\n",
    "    \n",
    "#     # Display the prediction\n",
    "# if prediction == 1:\n",
    "#     print(\"Result: Cyberbullying\")\n",
    "    \n",
    "# else:\n",
    "#     print(\"Result: Not Cyberbullying\")\n",
    "        \n",
    "        "
   ]
  },
  {
   "cell_type": "code",
   "execution_count": 37,
   "metadata": {},
   "outputs": [
    {
     "data": {
      "text/plain": [
       "['random_forest_model1.pkl']"
      ]
     },
     "execution_count": 37,
     "metadata": {},
     "output_type": "execute_result"
    }
   ],
   "source": [
    "joblib.dump(lgr, 'random_forest_model1.pkl')"
   ]
  },
  {
   "cell_type": "code",
   "execution_count": 38,
   "metadata": {
    "colab": {
     "base_uri": "https://localhost:8080/",
     "height": 809
    },
    "id": "4NfNEOO07efX",
    "outputId": "f6f82b76-b87b-4dcb-b1a7-357bf4b5adf6",
    "scrolled": true
   },
   "outputs": [
    {
     "data": {
      "text/plain": [
       "['tfidf_vectorizer1.pkl']"
      ]
     },
     "execution_count": 38,
     "metadata": {},
     "output_type": "execute_result"
    }
   ],
   "source": [
    "tfIdfVectorizer = TfidfVectorizer(use_idf=True, sublinear_tf=True)\n",
    "tfIdf = tfIdfVectorizer.fit_transform(df.content.tolist())\n",
    "\n",
    "# Save the TF-IDF vectorizer\n",
    "joblib.dump(tfIdfVectorizer, 'tfidf_vectorizer1.pkl')\n"
   ]
  },
  {
   "cell_type": "code",
   "execution_count": null,
   "metadata": {},
   "outputs": [],
   "source": []
  }
 ],
 "metadata": {
  "colab": {
   "collapsed_sections": [],
   "name": "Copy of ML Project.ipynb",
   "provenance": []
  },
  "kernelspec": {
   "display_name": "Python 3 (ipykernel)",
   "language": "python",
   "name": "python3"
  },
  "language_info": {
   "codemirror_mode": {
    "name": "ipython",
    "version": 3
   },
   "file_extension": ".py",
   "mimetype": "text/x-python",
   "name": "python",
   "nbconvert_exporter": "python",
   "pygments_lexer": "ipython3",
   "version": "3.9.12"
  }
 },
 "nbformat": 4,
 "nbformat_minor": 1
}
